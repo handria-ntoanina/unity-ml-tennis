{
 "cells": [
  {
   "cell_type": "markdown",
   "metadata": {},
   "source": [
    "## Import the necessary library\n"
   ]
  },
  {
   "cell_type": "code",
   "execution_count": 2,
   "metadata": {},
   "outputs": [],
   "source": [
    "import torch\n",
    "import numpy as np\n",
    "from collections import deque\n",
    "import matplotlib.pyplot as plt\n",
    "from unityagents import UnityEnvironment\n",
    "\n",
    "%matplotlib inline\n",
    "%load_ext autoreload\n",
    "%autoreload 2"
   ]
  },
  {
   "cell_type": "code",
   "execution_count": 3,
   "metadata": {
    "scrolled": false
   },
   "outputs": [
    {
     "name": "stderr",
     "output_type": "stream",
     "text": [
      "INFO:unityagents:\n",
      "'Academy' started successfully!\n",
      "Unity Academy name: Academy\n",
      "        Number of Brains: 1\n",
      "        Number of External Brains : 1\n",
      "        Lesson number : 0\n",
      "        Reset Parameters :\n",
      "\t\tgoal_speed -> 1.0\n",
      "\t\tgoal_size -> 5.0\n",
      "Unity brain name: ReacherBrain\n",
      "        Number of Visual Observations (per agent): 0\n",
      "        Vector Observation space type: continuous\n",
      "        Vector Observation space size (per agent): 33\n",
      "        Number of stacked Vector Observation: 1\n",
      "        Vector Action space type: continuous\n",
      "        Vector Action space size (per agent): 4\n",
      "        Vector Action descriptions: , , , \n"
     ]
    }
   ],
   "source": [
    "# env = UnityEnvironment(file_name='/data/Reacher_One_Linux_NoVis/Reacher_One_Linux_NoVis.x86_64')\n",
    "# env = UnityEnvironment(file_name='/data/Reacher_Linux_NoVis/Reacher.x86_64')\n",
    "env = UnityEnvironment(file_name='./Reacher_Windows_x86_64/Reacher.exe')\n",
    "# get the default brain\n",
    "brain_name = env.brain_names[0]\n",
    "brain = env.brains[brain_name]\n",
    "# reset the environment\n",
    "env_info = env.reset(train_mode=True)[brain_name]"
   ]
  },
  {
   "cell_type": "markdown",
   "metadata": {},
   "source": [
    "### Method to plot the progress of the agent's score"
   ]
  },
  {
   "cell_type": "code",
   "execution_count": 4,
   "metadata": {},
   "outputs": [],
   "source": [
    "def plot_result(scores):\n",
    "    # plot the scores\n",
    "    fig = plt.figure()\n",
    "    ax = fig.add_subplot(111)\n",
    "    plt.plot(np.arange(len(scores)), scores)\n",
    "    plt.ylabel('Score')\n",
    "    plt.xlabel('Episode #')\n",
    "    plt.show()"
   ]
  },
  {
   "cell_type": "markdown",
   "metadata": {},
   "source": [
    "## Validation method\n",
    "The noise has to be deactivated before the validation. This method is being used to assess the performance of the agent after every episode of training"
   ]
  },
  {
   "cell_type": "code",
   "execution_count": 5,
   "metadata": {},
   "outputs": [],
   "source": [
    "def validate(agent, max_t, train_mode=True):\n",
    "    env_info = env.reset(train_mode=train_mode)[brain_name]\n",
    "    agent.reset()\n",
    "    states = env_info.vector_observations\n",
    "    scores_one_episode = np.zeros(states.shape[0])\n",
    "    for t in range(max_t):\n",
    "        actions = agent.act(states, add_noise=False)             # select an action (for each agent)\n",
    "        env_info = env.step(actions)[brain_name]                 # send all actions to the environment\n",
    "        next_states = env_info.vector_observations               # get next state (for each agent)\n",
    "        rewards = env_info.rewards                               # get reward (for each agent)\n",
    "        dones = env_info.local_done                              # see if episode finished\n",
    "        scores_one_episode += env_info.rewards                   # update the score (for each agent)\n",
    "        states = next_states                                     # roll over states to next time step\n",
    "        if np.any(dones):                                        # exit loop if episode finished\n",
    "            break\n",
    "    return scores_one_episode"
   ]
  },
  {
   "cell_type": "markdown",
   "metadata": {},
   "source": [
    "## Training method\n",
    "The main loop of the training can be found here"
   ]
  },
  {
   "cell_type": "code",
   "execution_count": 10,
   "metadata": {},
   "outputs": [],
   "source": [
    "def train(agent, n_episodes=500, max_t=500, train_mode=True):\n",
    "    scores = []                        # list containing scores from each episode\n",
    "    scores_window = deque(maxlen=100)  # last 100 scores\n",
    "    for i_episode in range(1, n_episodes+1):\n",
    "        env_info = env.reset(train_mode=train_mode)[brain_name]\n",
    "        states = env_info.vector_observations\n",
    "        agent.reset()\n",
    "        for t in range(max_t):\n",
    "            actions = agent.act(states, add_noise=True)              # select an action (for each agent)\n",
    "            env_info = env.step(actions)[brain_name]                 # send all actions to the environment\n",
    "            next_states = env_info.vector_observations               # get next state (for each agent)\n",
    "            rewards = env_info.rewards                               # get reward (for each agent)\n",
    "            dones = env_info.local_done                              # see if episode finished\n",
    "            agent.step(states, actions, rewards, next_states, dones) # learn\n",
    "            states = next_states                                     # roll over states to next time step\n",
    "            if np.any(dones):                                        # exit loop if episode finished\n",
    "                break\n",
    "        scores_one_episode = validate(agent, max_t, train_mode=train_mode)\n",
    "        score = np.average(scores_one_episode)\n",
    "        scores.append(score)\n",
    "        scores_window.append(score)\n",
    "        mean_100 = np.mean(scores_window)\n",
    "        print('\\rEpisode {}\\tAverage Score: {:.3f}\\tLast Score: {:.3f}\\tMax Score: {:.3f}'.format(i_episode, \n",
    "                                                                                          mean_100, \n",
    "                                                                                          score,\n",
    "                                                                                         np.max(scores_one_episode)), end=\"\")\n",
    "        if i_episode % 100 == 0:\n",
    "            print(' '*300, end=\"\")\n",
    "            print('\\rEpisode {}\\tAverage Score: {:.3f}\\tMax Score: {:.3f}'.format(i_episode, mean_100, np.max(scores_window)))\n",
    "            agent.save()\n",
    "        if len(scores_window) >= 100 and np.mean(scores_window)>=30.0:\n",
    "            print('\\nEnvironment solved in {:d} episodes!\\tAverage Score: {:.3f}'.format(i_episode, mean_100))\n",
    "            agent.save()\n",
    "            break\n",
    "    return scores"
   ]
  },
  {
   "cell_type": "markdown",
   "metadata": {},
   "source": [
    "## Prepare the agent\n",
    "* One instance of the memory ReplayBuffer is built here\n",
    "* The ParallelDDPG is one version of the DDPG that use one local actor/critic network and one target actor/critic network that are being used by several agents\n",
    "* The hyperparameters are set and the agent is initialized\n",
    "* Several instances of the noise generator are created and attached to the agent"
   ]
  },
  {
   "cell_type": "code",
   "execution_count": 7,
   "metadata": {
    "scrolled": false
   },
   "outputs": [],
   "source": [
    "from agents.utils import ReplayBuffer, ParameterNoise, ActionNoise\n",
    "from agents.parallel_ddpg import ParallelDDPG\n",
    "from agents.models_success import Actor, Critic\n",
    "import random\n",
    "\n",
    "device = torch.device(\"cuda:0\" if torch.cuda.is_available() else \"cpu\")\n",
    "#device = \"cpu\"\n",
    "torch.set_num_threads(3)\n",
    "random_seed = 0\n",
    "states = env_info.vector_observations\n",
    "action_size = brain.vector_action_space_size\n",
    "memory = ReplayBuffer(action_size, device, int(1e5), 64, random_seed)\n",
    "agent = ParallelDDPG(states.shape[1], action_size, random_seed, states.shape[0], memory, Actor, Critic, device, \n",
    "                    TAU=1e-3,\n",
    "                    UPDATE_EVERY=20,\n",
    "                    TRANSFER_EVERY=1,\n",
    "                    UPDATE_LOOP=10,\n",
    "                    ADD_NOISE_EVERY=1,\n",
    "                    BOOTSTRAP_SIZE=4,\n",
    "                    LR_CRITIC = 1e-4,\n",
    "                    LR_ACTOR = 1e-3)\n",
    "# noise = ParameterNoise(agent.actor_target, device, random_seed, mu=0., theta=0.3, sigma=0.05)\n",
    "\n",
    "random.seed(random_seed)\n",
    "noise = [ActionNoise(action_size, device, random_seed + i*10, mu=-0.5, theta=0.1*random.random(), \n",
    "                     sigma=0.1*random.random()) for i in range(int(states.shape[1]))] \n",
    "agent.set_noise(noise)\n",
    "# Check that saving and loading are working\n",
    "# agent.save()\n",
    "# agent.load()"
   ]
  },
  {
   "cell_type": "markdown",
   "metadata": {},
   "source": [
    "## Start training"
   ]
  },
  {
   "cell_type": "code",
   "execution_count": 8,
   "metadata": {},
   "outputs": [
    {
     "name": "stdout",
     "output_type": "stream",
     "text": [
      "Episode 100\tAverage Score: 0.350\tMax Score: 1.0090\tMax Score: 1.690                                                                                                                                                                                                                                                                                                            \n",
      "Episode 200\tAverage Score: 1.189\tMax Score: 2.1735\tMax Score: 5.420                                                                                                                                                                                                                                                                                                            \n",
      "Episode 300\tAverage Score: 2.202\tMax Score: 3.0753\tMax Score: 4.480                                                                                                                                                                                                                                                                                                            \n",
      "Episode 400\tAverage Score: 3.045\tMax Score: 4.0319\tMax Score: 5.400                                                                                                                                                                                                                                                                                                            \n",
      "Episode 500\tAverage Score: 3.685\tMax Score: 4.7170\tMax Score: 6.220                                                                                                                                                                                                                                                                                                            \n",
      "Episode 600\tAverage Score: 4.362\tMax Score: 5.6301\tMax Score: 7.580                                                                                                                                                                                                                                                                                                            \n",
      "Episode 700\tAverage Score: 4.740\tMax Score: 5.9162\tMax Score: 7.110                                                                                                                                                                                                                                                                                                            \n",
      "Episode 800\tAverage Score: 4.872\tMax Score: 6.2637\tMax Score: 7.660                                                                                                                                                                                                                                                                                                            \n",
      "Episode 900\tAverage Score: 5.319\tMax Score: 6.2804\tMax Score: 7.000                                                                                                                                                                                                                                                                                                            \n",
      "Episode 1000\tAverage Score: 5.621\tMax Score: 6.7388\tMax Score: 7.670                                                                                                                                                                                                                                                                                                            \n"
     ]
    },
    {
     "data": {
      "image/png": "[encoded data removed]",
      "text/plain": [
       "<matplotlib.figure.Figure at 0x7f375fa6c470>"
      ]
     },
     "metadata": {
      "needs_background": "light"
     },
     "output_type": "display_data"
    }
   ],
   "source": [
    "scores = train(agent, n_episodes=1000, max_t=200, train_mode=True)\n",
    "plot_result(scores)"
   ]
  },
  {
   "cell_type": "markdown",
   "metadata": {},
   "source": [
    "# Load the latest weight and continue the training"
   ]
  },
  {
   "cell_type": "code",
   "execution_count": null,
   "metadata": {},
   "outputs": [
    {
     "name": "stdout",
     "output_type": "stream",
     "text": [
      "Episode 100\tAverage Score: 6.297\tMax Score: 7.3460\tMax Score: 7.650                                                                                                                                                                                                                                                                                                            \n",
      "Episode 200\tAverage Score: 6.662\tMax Score: 7.2922\tMax Score: 7.540                                                                                                                                                                                                                                                                                                            \n",
      "Episode 300\tAverage Score: 6.604\tMax Score: 7.4004\tMax Score: 7.640                                                                                                                                                                                                                                                                                                            \n",
      "Episode 400\tAverage Score: 6.594\tMax Score: 7.3010\tMax Score: 7.640                                                                                                                                                                                                                                                                                                            \n",
      "Episode 500\tAverage Score: 6.655\tMax Score: 7.2622\tMax Score: 7.620                                                                                                                                                                                                                                                                                                            \n",
      "Episode 600\tAverage Score: 6.705\tMax Score: 7.3356\tMax Score: 7.680                                                                                                                                                                                                                                                                                                            \n",
      "Episode 627\tAverage Score: 6.741\tLast Score: 6.854\tMax Score: 7.640"
     ]
    }
   ],
   "source": [
    "agent.load(\"/weights/1300\")\n",
    "scores = train(agent, n_episodes=1000, max_t=200, train_mode=True)\n",
    "plot_result(scores)"
   ]
  },
  {
   "cell_type": "code",
   "execution_count": null,
   "metadata": {},
   "outputs": [],
   "source": [
    "agent.load(\"/weights/1900\")\n",
    "scores = train(agent, n_episodes=1000, max_t=200, train_mode=True)\n",
    "plot_result(scores)"
   ]
  },
  {
   "cell_type": "markdown",
   "metadata": {},
   "source": [
    "## Final round\n",
    "The previous training was restricted to 200 timesteps for each episode. The maximum timestep for this environment is 1,000 timestep. The next code is to demonstrate that the agent is able to solve the environment with less timestep (900). It is capable of reaching an average of +30 per agent per 100 for the last 100 episodes.\n",
    "This performance can still be pushed."
   ]
  },
  {
   "cell_type": "code",
   "execution_count": 11,
   "metadata": {},
   "outputs": [
    {
     "name": "stdout",
     "output_type": "stream",
     "text": [
      "Episode 100\tAverage Score: 32.401\tMax Score: 35.1577\tMax Score: 35.040                                                                                                                                                                                                                                                                                                            \n",
      "\n",
      "Environment solved in 100 episodes!\tAverage Score: 32.401\n"
     ]
    },
    {
     "data": {
      "image/png": "[encoded data removed]",
      "text/plain": [
       "<matplotlib.figure.Figure at 0x7f047ab1e8d0>"
      ]
     },
     "metadata": {
      "needs_background": "light"
     },
     "output_type": "display_data"
    }
   ],
   "source": [
    "agent.load(\"/weights/2100\")\n",
    "scores = train(agent, n_episodes=1000, max_t=900, train_mode=True)\n",
    "plot_result(scores)"
   ]
  },
  {
   "cell_type": "code",
   "execution_count": null,
   "metadata": {},
   "outputs": [],
   "source": []
  }
 ],
 "metadata": {
  "kernelspec": {
   "display_name": "Python 3",
   "language": "python",
   "name": "python3"
  },
  "language_info": {
   "codemirror_mode": {
    "name": "ipython",
    "version": 3
   },
   "file_extension": ".py",
   "mimetype": "text/x-python",
   "name": "python",
   "nbconvert_exporter": "python",
   "pygments_lexer": "ipython3",
   "version": "3.6.6"
  }
 },
 "nbformat": 4,
 "nbformat_minor": 2
}
