{
 "cells": [
  {
   "cell_type": "code",
   "execution_count": 4,
   "metadata": {},
   "outputs": [],
   "source": [
    "import numpy as np\n",
    "def batch_indices(length, batch_size):\n",
    "    indices = np.arange(length)\n",
    "    np.random.shuffle(indices)\n",
    "    for i in range(1 + length // batch_size):\n",
    "        start = batch_size*i\n",
    "        end = start + batch_size\n",
    "        end = min(length, end)\n",
    "        if start >= length:\n",
    "            return\n",
    "        print(start, end)"
   ]
  },
  {
   "cell_type": "code",
   "execution_count": 10,
   "metadata": {},
   "outputs": [
    {
     "name": "stdout",
     "output_type": "stream",
     "text": [
      "0 44\n",
      "44 88\n",
      "88 132\n",
      "132 176\n",
      "176 220\n",
      "220 256\n"
     ]
    }
   ],
   "source": [
    "batch_indices(256, 44)"
   ]
  },
  {
   "cell_type": "code",
   "execution_count": null,
   "metadata": {},
   "outputs": [],
   "source": []
  }
 ],
 "metadata": {
  "kernelspec": {
   "display_name": "drlnd",
   "language": "python",
   "name": "drlnd"
  },
  "language_info": {
   "codemirror_mode": {
    "name": "ipython",
    "version": 3
   },
   "file_extension": ".py",
   "mimetype": "text/x-python",
   "name": "python",
   "nbconvert_exporter": "python",
   "pygments_lexer": "ipython3",
   "version": "3.6.6"
  }
 },
 "nbformat": 4,
 "nbformat_minor": 2
}
