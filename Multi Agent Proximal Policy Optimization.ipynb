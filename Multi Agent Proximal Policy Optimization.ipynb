{
 "cells": [
  {
   "cell_type": "code",
   "execution_count": null,
   "metadata": {},
   "outputs": [],
   "source": [
    "import torch\n",
    "import numpy as np\n",
    "from collections import deque\n",
    "import matplotlib.pyplot as plt\n",
    "from unityagents import UnityEnvironment\n",
    "from agents.utils import OUNoise\n",
    "\n",
    "%matplotlib inline\n",
    "%load_ext autoreload\n",
    "%autoreload 2"
   ]
  },
  {
   "cell_type": "code",
   "execution_count": null,
   "metadata": {},
   "outputs": [],
   "source": [
    "env = UnityEnvironment(file_name=\"Tennis_Windows_x86_64/Tennis.exe\")\n",
    "# get the default brain\n",
    "brain_name = env.brain_names[0]\n",
    "brain = env.brains[brain_name]\n",
    "\n",
    "env_info = env.reset(train_mode=False)[brain_name]\n",
    "states = env_info.vector_observations\n",
    "action_size = brain.vector_action_space_size\n",
    "state_size = states.shape[1]"
   ]
  },
  {
   "cell_type": "markdown",
   "metadata": {},
   "source": [
    "## Analysis\n",
    "The agents should be the same given the symmetrical property of the environment. Therefore, the policy of an agent trained on the left should be valid when we put the same agent at the right. However, its input would need to be twicked. The first step would consist then to validate that the observations are already symmetrical or not. **That should reduce the training time by half**.\n",
    "\n",
    "Here are the assumptions:\n",
    "* The observation state of each agent is having a length of 24\n",
    "* The observation state contains values about:\n",
    "    * The position and velocity of the ball\n",
    "    * The position and velocity of the agent\n",
    "    * The position and velocity of the opponent\n",
    "* The horizontal component of the state could be multiplied by -1 to flip the board symmetrically to a vertical axis:\n",
    "    * horizontal position and velocity of the ball\n",
    "    * horizontal position and velocity of the agent\n",
    "    * horizontal position and velocity of the opponent"
   ]
  },
  {
   "cell_type": "markdown",
   "metadata": {},
   "source": [
    "### Analysis of the different components of the observations and actions\n",
    "To find the relation between the observed states, let us sent one action to both agents and print the states observed by the agents at each time steps"
   ]
  },
  {
   "cell_type": "code",
   "execution_count": null,
   "metadata": {
    "scrolled": true
   },
   "outputs": [],
   "source": [
    "# reset the environment\n",
    "env_info = env.reset(train_mode=False)[brain_name]\n",
    "states = env_info.vector_observations\n",
    "\n",
    "for i in range(50):\n",
    "    actions = np.array([[0.5, 0],[0.5, 0]]) # select an action (for each agent)\n",
    "    env_info = env.step(actions)[brain_name]           # send all actions to tne environment\n",
    "    next_states = env_info.vector_observations         # get next state (for each agent)\n",
    "    print(\"{}\\tAgent 1\\t{}\".format(i, next_states[0]))\n",
    "    print(\"{}\\tAgent 2\\t{}\".format(i, next_states[1]))\n",
    "    states = next_states                               # roll over states to next time step"
   ]
  },
  {
   "cell_type": "markdown",
   "metadata": {},
   "source": [
    "According to the previous result and the observation of the rendered screen:\n",
    "* the 1st element of the action is defining the \"force\" applied by one agent to reach the net\n",
    "    * with a positive value, an agent is moving to the net\n",
    "    * with a negative value, the agent is moving away from the net\n",
    "* the 2nd element of the action is defining the jumping \"force\" and it is discrete\n",
    "    * with zero, the agent stays on the ground\n",
    "    * with one, the agent is jumping\n",
    "* only the index 4, 12, and 20 of the states observed by the agents are symmetrical along 0"
   ]
  },
  {
   "cell_type": "code",
   "execution_count": null,
   "metadata": {
    "scrolled": false
   },
   "outputs": [],
   "source": [
    "# reset the environment and observe the symmetrical values while moving only one agent\n",
    "env_info = env.reset(train_mode=False)[brain_name]\n",
    "states = env_info.vector_observations\n",
    "\n",
    "for i in range(10):\n",
    "    actions = np.array([[0.5, 0],[0, 0]])                # select an action (for each agent)\n",
    "    env_info = env.step(actions)[brain_name]           # send all actions to tne environment\n",
    "    next_states = env_info.vector_observations         # get next state (for each agent)\n",
    "    print(\"{}\\tAgent 1\\t{}\\t{}\\t{}\".format(i, next_states[0][4], next_states[0][12], next_states[0][20]))\n",
    "    print(\"{}\\tAgent 2\\t{}\\t{}\\t{}\".format(i, next_states[1][4], next_states[1][12], next_states[1][20]))\n",
    "    states = next_states                               # roll over states to next time step"
   ]
  },
  {
   "cell_type": "markdown",
   "metadata": {},
   "source": [
    "According to the previous result and the observation of the rendered screen:\n",
    "* the 1st element of the action is defining the \"force\" applied by one agent to reach the net\n",
    "    * with a positive value, an agent is moving to the net\n",
    "    * with a negative value, the agent is moving away from the net\n",
    "* the 2nd element of the action is defining the jumping \"force\" and it is discrete\n",
    "    * with zero, the agent stays on the ground\n",
    "    * with one, the agent is jumping\n",
    "* only the index 4, 12, and 20 of the states observed by the agents are symmetrical along 0\n",
    "* the agent of the right is the agent with index 0\n",
    "* these indices 4, 12, and 20 are the x position of the ball from the point of view of the agent within 3 successive timesteps\n",
    "\n",
    "*Conclusion*:\n",
    "The observation states are describing the environment from the point of view of the agent and not of the viewer. Therefore, one unique agent can be trained by using both observations"
   ]
  },
  {
   "cell_type": "markdown",
   "metadata": {},
   "source": [
    "## Training\n",
    "After that confirmation, we start the training"
   ]
  },
  {
   "cell_type": "code",
   "execution_count": null,
   "metadata": {},
   "outputs": [],
   "source": [
    "def plot_result(scores):\n",
    "    # plot the scores\n",
    "    fig = plt.figure()\n",
    "    ax = fig.add_subplot(111)\n",
    "    plt.plot(np.arange(len(scores)), scores)\n",
    "    plt.ylabel('Score')\n",
    "    plt.xlabel('Episode #')\n",
    "    plt.show()"
   ]
  },
  {
   "cell_type": "code",
   "execution_count": null,
   "metadata": {},
   "outputs": [],
   "source": [
    "def train(agent, n_episodes=500, train_mode=True):\n",
    "    scores = []                        # list containing scores from each episode\n",
    "    scores_window = deque(maxlen=100)  # last 100 scores\n",
    "    for i_episode in range(1, n_episodes+1):\n",
    "        env_info = env.reset(train_mode=train_mode)[brain_name]\n",
    "        states = env_info.vector_observations\n",
    "        scores_one_episode = np.zeros(2)\n",
    "        trajectories_states, trajectories_next_states, trajectories_full_states, trajectories_actions, trajectories_log_probs, trajectories_values, \\\n",
    "        trajectories_rewards, trajectories_dones = [[], []], \\\n",
    "                                            [[], []], \\\n",
    "                                            [[], []], \\\n",
    "                                            [[], []], \\\n",
    "                                            [[], []], \\\n",
    "                                            [[], []], \\\n",
    "                                            [[], []], \\\n",
    "                                            [[], []]\n",
    "        \n",
    "        while True:\n",
    "            # TODO: Call Act only once to produce two actions\n",
    "            concatenated_actions = np.zeros((2,2))\n",
    "            for i in range(2):\n",
    "                actions, log_probs = agent.act(states[i])\n",
    "                concatenated_actions[i] += actions[0] # + noise * noises[i].sample()\n",
    "                trajectories_states[i].append(states[i])\n",
    "                trajectories_actions[i].append(actions[0])\n",
    "                trajectories_log_probs[i].append(log_probs[0])\n",
    "            \n",
    "            for i in range(2):\n",
    "                # Concatenate all states and actions taken by all agents\n",
    "                # from agent 0 point of view, concatenate state seen by agent 0, state seen by agent 1, action agent 0, action agent 1\n",
    "                # from agent 1 point of view, concatenate state seen by agent 1, state seen by agent 0, action agent 1, action agent 0\n",
    "                full_state = np.concatenate((trajectories_states[i][-1],\n",
    "                                             trajectories_actions[i][-1],\n",
    "                                             trajectories_actions[(i+1) % 2][-1]))\n",
    "                trajectories_full_states[i].append(full_state)\n",
    "                trajectories_values[i].append(agent.estimate(full_state)[0])\n",
    "                \n",
    "            env_info = env.step(np.clip(concatenated_actions, -1, 1))[brain_name] # send all actions to the environment\n",
    "            next_states = env_info.vector_observations                            # get next state (for each agent)\n",
    "            rewards = env_info.rewards                                            # get reward (for each agent)\n",
    "            dones = env_info.local_done                                           # see if episode finished\n",
    "            scores_one_episode += rewards\n",
    "            \n",
    "            for i in range(2):\n",
    "                trajectories_next_states[i].append(next_states[i])\n",
    "                trajectories_rewards[i].append(rewards[i])\n",
    "                trajectories_dones[i].append(dones[i])\n",
    "                \n",
    "            states = next_states                                     # roll over states to next time step\n",
    "            if np.any(dones):                                        # exit loop if episode finished\n",
    "                break\n",
    "#                 env_info = env.reset(train_mode=train_mode)[brain_name]\n",
    "#                 states = env_info.vector_observations \n",
    "        \n",
    "        # in the optimization of the critic, we need the next values\n",
    "        # however, our next values here are function of the actions and states of all agent\n",
    "        # so we take an extra step to collect the next values\n",
    "        trajectories_next_values = trajectories_values.copy()\n",
    "        for j in range(2):\n",
    "            for i in range(len(trajectories_next_values[0])):\n",
    "                trajectories_next_values[j][i] = trajectories_next_values[j][i].copy()\n",
    "                \n",
    "            # ensure that the next value of timestep i is the value of timestep i+1            \n",
    "            trajectories_next_values[j] = np.roll(np.array(trajectories_next_values[j]), -1, axis=0)\n",
    "            trajectories_next_values[j][-1]=0\n",
    "\n",
    "        for i in range(2):\n",
    "            agent.learn(trajectories_states[i], \n",
    "                        trajectories_actions[i], \n",
    "                        trajectories_log_probs[i], \n",
    "                        trajectories_values[i], \n",
    "                        trajectories_rewards[i], \n",
    "                        trajectories_next_states[i],\n",
    "                        trajectories_dones[i], \n",
    "                        trajectories_full_states[i], \n",
    "                        trajectories_next_values[i])\n",
    "            \n",
    "        score = np.max(scores_one_episode)\n",
    "        scores.append(score)\n",
    "        scores_window.append(score)\n",
    "        mean_100 = np.mean(scores_window)\n",
    "\n",
    "        if i_episode % 50 == 0:\n",
    "            print('\\rEpisode {}\\tAverage Score: {:.3f}\\tMax Score: {:.3f}\\tLast Score: {:.3f}'.\n",
    "                      format(i_episode, \n",
    "                         mean_100, \n",
    "                         np.max(scores_window),\n",
    "                        scores_window[-1]))\n",
    "            agent.save(\"eps_{}_avg_{}.pth\".format(i_episode, mean_100))\n",
    "            \n",
    "        if len(scores_window) >= 100 and np.mean(scores_window)>=0.5:\n",
    "            print('\\nEnvironment solved in {:d} episodes!\\tAverage Score: {:.3f}'.format(i_episode, mean_100))\n",
    "            agent.save(\"final.pth\")\n",
    "            break\n",
    "    return scores"
   ]
  },
  {
   "cell_type": "code",
   "execution_count": null,
   "metadata": {
    "scrolled": true
   },
   "outputs": [],
   "source": [
    "from agents.ppo import PPO\n",
    "from agents.model_ppo import Gaussian\n",
    "import random\n",
    "import torch.nn.functional as F\n",
    "from tensorboardX import SummaryWriter\n",
    "\n",
    "# device = torch.device(\"cuda:0\" if torch.cuda.is_available() else \"cpu\")\n",
    "device = \"cpu\"\n",
    "\n",
    "seed = 257\n",
    "torch.manual_seed(seed)\n",
    "torch.cuda.manual_seed_all(seed)\n",
    "np.random.seed(seed)\n",
    "random.seed(seed)\n",
    "\n",
    "logger = SummaryWriter(log_dir=\"./logs\")\n",
    "\n",
    "network = Gaussian(state_size, action_size, (state_size + action_size)*2 , activation = F.leaky_relu).to(device)\n",
    "agent = PPO(network, device, logger,\n",
    "                 LR=1e-3,\n",
    "                 WEIGHT_DECAY=1e-4,\n",
    "                 GRADIENT_CLIP=5, \n",
    "                 EPOCHS=4, \n",
    "                 BATCH_SIZE=32,\n",
    "                GAMMA=0.99,\n",
    "                GAE_TAU=0.95,\n",
    "                CLIP_EPSILON=0.1)\n",
    "scores = train(agent, n_episodes=2000, train_mode=True)\n",
    "plot_result(scores)\n",
    "logger.close()"
   ]
  },
  {
   "cell_type": "code",
   "execution_count": null,
   "metadata": {},
   "outputs": [],
   "source": [
    "logger.close()"
   ]
  },
  {
   "cell_type": "code",
   "execution_count": null,
   "metadata": {},
   "outputs": [],
   "source": [
    "env_info = env.reset(train_mode=True)[brain_name]\n",
    "states = env_info.vector_observations\n",
    "states_1 = torch.tensor(states[0]).float().to(agent.device)\n",
    "states_2 = torch.tensor(states[1]).float().to(agent.device)\n",
    "actions_1, _ = agent.network(states_1)\n",
    "actions_2, _ = agent.network(states_2)\n",
    "full_state = torch.cat((states_1, states_2, actions_1, actions_2))\n",
    "value = agent.network.estimate(full_state)\n",
    "logger = SummaryWriter(log_dir=\"./logs/graphs\")\n",
    "logger.add_graph(agent.network, actions_1)\n",
    "logger.add_graph(agent.network, full_state)"
   ]
  },
  {
   "cell_type": "code",
   "execution_count": null,
   "metadata": {},
   "outputs": [],
   "source": []
  }
 ],
 "metadata": {
  "kernelspec": {
   "display_name": "drlnd",
   "language": "python",
   "name": "drlnd"
  },
  "language_info": {
   "codemirror_mode": {
    "name": "ipython",
    "version": 3
   },
   "file_extension": ".py",
   "mimetype": "text/x-python",
   "name": "python",
   "nbconvert_exporter": "python",
   "pygments_lexer": "ipython3",
   "version": "3.6.6"
  }
 },
 "nbformat": 4,
 "nbformat_minor": 2
}
